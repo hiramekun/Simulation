{
 "cells": [
  {
   "cell_type": "code",
   "execution_count": 36,
   "metadata": {},
   "outputs": [],
   "source": [
    "import matplotlib.pyplot as plt\n",
    "import numpy as np\n",
    "\n",
    "%matplotlib inline\n",
    "\n",
    "n = 100\n",
    "n_t = 100000\n",
    "mu = 3\n",
    "var = 2\n",
    "T = []\n",
    "for _ in range(n_t):\n",
    "    X = [np.random.normal(mu, np.math.sqrt(var), 100) for i in range(n)]\n",
    "    X_mean = np.mean(X)\n",
    "    sigma_hat = np.sum((X - X_mean) ** 2) / (n - 1)\n",
    "    T.append(np.math.sqrt(n) * (X_mean - mu) / sigma_hat)"
   ]
  },
  {
   "cell_type": "code",
   "execution_count": 37,
   "metadata": {},
   "outputs": [
    {
     "name": "stdout",
     "output_type": "stream",
     "text": [
      "2.7088429588526585e-06\n",
      "4.915260311261326e-07\n"
     ]
    },
    {
     "data": {
      "image/png": "[encoded data removed]",
      "text/plain": [
       "<Figure size 432x288 with 1 Axes>"
      ]
     },
     "metadata": {
      "needs_background": "light"
     },
     "output_type": "display_data"
    }
   ],
   "source": [
    "plt.hist(T, bins=50, alpha=0.5)\n",
    "plt.hist(np.random.normal(np.mean(T), np.sqrt(np.var(T)), n_t), bins=50, alpha=0.5)\n",
    "print(np.mean(T))\n",
    "print(np.var(T))"
   ]
  },
  {
   "cell_type": "code",
   "execution_count": null,
   "metadata": {},
   "outputs": [],
   "source": []
  }
 ],
 "metadata": {
  "kernelspec": {
   "display_name": "Python 3",
   "language": "python",
   "name": "python3"
  },
  "language_info": {
   "codemirror_mode": {
    "name": "ipython",
    "version": 3
   },
   "file_extension": ".py",
   "mimetype": "text/x-python",
   "name": "python",
   "nbconvert_exporter": "python",
   "pygments_lexer": "ipython3",
   "version": "3.6.7"
  }
 },
 "nbformat": 4,
 "nbformat_minor": 2
}
